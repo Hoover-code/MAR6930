{
 "cells": [
  {
   "cell_type": "code",
   "execution_count": 4,
   "metadata": {},
   "outputs": [
    {
     "name": "stdout",
     "output_type": "stream",
     "text": [
      "Processing: Area\n",
      "Processing: Population\n"
     ]
    },
    {
     "name": "stderr",
     "output_type": "stream",
     "text": [
      "/var/folders/96/g4gf6fdx3fvd5rqt0q24w3fh0000gq/T/ipykernel_51712/3593484128.py:32: FutureWarning: Passing literal html to 'read_html' is deprecated and will be removed in a future version. To read from a literal string, wrap it in a 'StringIO' object.\n",
      "  df = pd.read_html(str(table))[0]\n",
      "/var/folders/96/g4gf6fdx3fvd5rqt0q24w3fh0000gq/T/ipykernel_51712/3593484128.py:32: FutureWarning: Passing literal html to 'read_html' is deprecated and will be removed in a future version. To read from a literal string, wrap it in a 'StringIO' object.\n",
      "  df = pd.read_html(str(table))[0]\n",
      "/var/folders/96/g4gf6fdx3fvd5rqt0q24w3fh0000gq/T/ipykernel_51712/3593484128.py:32: FutureWarning: Passing literal html to 'read_html' is deprecated and will be removed in a future version. To read from a literal string, wrap it in a 'StringIO' object.\n",
      "  df = pd.read_html(str(table))[0]\n"
     ]
    },
    {
     "name": "stdout",
     "output_type": "stream",
     "text": [
      "Processing: Median age\n",
      "Processing: Population growth rate\n"
     ]
    },
    {
     "name": "stderr",
     "output_type": "stream",
     "text": [
      "/var/folders/96/g4gf6fdx3fvd5rqt0q24w3fh0000gq/T/ipykernel_51712/3593484128.py:32: FutureWarning: Passing literal html to 'read_html' is deprecated and will be removed in a future version. To read from a literal string, wrap it in a 'StringIO' object.\n",
      "  df = pd.read_html(str(table))[0]\n",
      "/var/folders/96/g4gf6fdx3fvd5rqt0q24w3fh0000gq/T/ipykernel_51712/3593484128.py:32: FutureWarning: Passing literal html to 'read_html' is deprecated and will be removed in a future version. To read from a literal string, wrap it in a 'StringIO' object.\n",
      "  df = pd.read_html(str(table))[0]\n"
     ]
    },
    {
     "name": "stdout",
     "output_type": "stream",
     "text": [
      "Processing: Birth rate\n",
      "Processing: Death rate\n"
     ]
    },
    {
     "name": "stderr",
     "output_type": "stream",
     "text": [
      "/var/folders/96/g4gf6fdx3fvd5rqt0q24w3fh0000gq/T/ipykernel_51712/3593484128.py:32: FutureWarning: Passing literal html to 'read_html' is deprecated and will be removed in a future version. To read from a literal string, wrap it in a 'StringIO' object.\n",
      "  df = pd.read_html(str(table))[0]\n",
      "/var/folders/96/g4gf6fdx3fvd5rqt0q24w3fh0000gq/T/ipykernel_51712/3593484128.py:32: FutureWarning: Passing literal html to 'read_html' is deprecated and will be removed in a future version. To read from a literal string, wrap it in a 'StringIO' object.\n",
      "  df = pd.read_html(str(table))[0]\n"
     ]
    },
    {
     "name": "stdout",
     "output_type": "stream",
     "text": [
      "Processing: Net migration rate\n",
      "Processing: Maternal mortality ratio\n"
     ]
    },
    {
     "name": "stderr",
     "output_type": "stream",
     "text": [
      "/var/folders/96/g4gf6fdx3fvd5rqt0q24w3fh0000gq/T/ipykernel_51712/3593484128.py:32: FutureWarning: Passing literal html to 'read_html' is deprecated and will be removed in a future version. To read from a literal string, wrap it in a 'StringIO' object.\n",
      "  df = pd.read_html(str(table))[0]\n",
      "/var/folders/96/g4gf6fdx3fvd5rqt0q24w3fh0000gq/T/ipykernel_51712/3593484128.py:32: FutureWarning: Passing literal html to 'read_html' is deprecated and will be removed in a future version. To read from a literal string, wrap it in a 'StringIO' object.\n",
      "  df = pd.read_html(str(table))[0]\n"
     ]
    },
    {
     "name": "stdout",
     "output_type": "stream",
     "text": [
      "Processing: Infant mortality rate\n",
      "Processing: Life expectancy at birth\n"
     ]
    },
    {
     "name": "stderr",
     "output_type": "stream",
     "text": [
      "/var/folders/96/g4gf6fdx3fvd5rqt0q24w3fh0000gq/T/ipykernel_51712/3593484128.py:32: FutureWarning: Passing literal html to 'read_html' is deprecated and will be removed in a future version. To read from a literal string, wrap it in a 'StringIO' object.\n",
      "  df = pd.read_html(str(table))[0]\n",
      "/var/folders/96/g4gf6fdx3fvd5rqt0q24w3fh0000gq/T/ipykernel_51712/3593484128.py:32: FutureWarning: Passing literal html to 'read_html' is deprecated and will be removed in a future version. To read from a literal string, wrap it in a 'StringIO' object.\n",
      "  df = pd.read_html(str(table))[0]\n"
     ]
    },
    {
     "name": "stdout",
     "output_type": "stream",
     "text": [
      "Processing: Total fertility rate\n",
      "Processing: Obesity - adult prevalence rate\n"
     ]
    },
    {
     "name": "stderr",
     "output_type": "stream",
     "text": [
      "/var/folders/96/g4gf6fdx3fvd5rqt0q24w3fh0000gq/T/ipykernel_51712/3593484128.py:32: FutureWarning: Passing literal html to 'read_html' is deprecated and will be removed in a future version. To read from a literal string, wrap it in a 'StringIO' object.\n",
      "  df = pd.read_html(str(table))[0]\n",
      "/var/folders/96/g4gf6fdx3fvd5rqt0q24w3fh0000gq/T/ipykernel_51712/3593484128.py:32: FutureWarning: Passing literal html to 'read_html' is deprecated and will be removed in a future version. To read from a literal string, wrap it in a 'StringIO' object.\n",
      "  df = pd.read_html(str(table))[0]\n"
     ]
    },
    {
     "name": "stdout",
     "output_type": "stream",
     "text": [
      "Processing: Alcohol consumption per capita\n",
      "Processing: Tobacco use\n"
     ]
    },
    {
     "name": "stderr",
     "output_type": "stream",
     "text": [
      "/var/folders/96/g4gf6fdx3fvd5rqt0q24w3fh0000gq/T/ipykernel_51712/3593484128.py:32: FutureWarning: Passing literal html to 'read_html' is deprecated and will be removed in a future version. To read from a literal string, wrap it in a 'StringIO' object.\n",
      "  df = pd.read_html(str(table))[0]\n",
      "/var/folders/96/g4gf6fdx3fvd5rqt0q24w3fh0000gq/T/ipykernel_51712/3593484128.py:32: FutureWarning: Passing literal html to 'read_html' is deprecated and will be removed in a future version. To read from a literal string, wrap it in a 'StringIO' object.\n",
      "  df = pd.read_html(str(table))[0]\n"
     ]
    },
    {
     "name": "stdout",
     "output_type": "stream",
     "text": [
      "Processing: Children under the age of 5 years underweight\n",
      "Processing: Education expenditures\n"
     ]
    },
    {
     "name": "stderr",
     "output_type": "stream",
     "text": [
      "/var/folders/96/g4gf6fdx3fvd5rqt0q24w3fh0000gq/T/ipykernel_51712/3593484128.py:32: FutureWarning: Passing literal html to 'read_html' is deprecated and will be removed in a future version. To read from a literal string, wrap it in a 'StringIO' object.\n",
      "  df = pd.read_html(str(table))[0]\n"
     ]
    },
    {
     "name": "stdout",
     "output_type": "stream",
     "text": [
      "Processing: Revenue from forest resources\n"
     ]
    },
    {
     "name": "stderr",
     "output_type": "stream",
     "text": [
      "/var/folders/96/g4gf6fdx3fvd5rqt0q24w3fh0000gq/T/ipykernel_51712/3593484128.py:32: FutureWarning: Passing literal html to 'read_html' is deprecated and will be removed in a future version. To read from a literal string, wrap it in a 'StringIO' object.\n",
      "  df = pd.read_html(str(table))[0]\n",
      "/var/folders/96/g4gf6fdx3fvd5rqt0q24w3fh0000gq/T/ipykernel_51712/3593484128.py:32: FutureWarning: Passing literal html to 'read_html' is deprecated and will be removed in a future version. To read from a literal string, wrap it in a 'StringIO' object.\n",
      "  df = pd.read_html(str(table))[0]\n"
     ]
    },
    {
     "name": "stdout",
     "output_type": "stream",
     "text": [
      "Processing: Revenue from coal\n",
      "Processing: Real GDP (purchasing power parity)\n"
     ]
    },
    {
     "name": "stderr",
     "output_type": "stream",
     "text": [
      "/var/folders/96/g4gf6fdx3fvd5rqt0q24w3fh0000gq/T/ipykernel_51712/3593484128.py:32: FutureWarning: Passing literal html to 'read_html' is deprecated and will be removed in a future version. To read from a literal string, wrap it in a 'StringIO' object.\n",
      "  df = pd.read_html(str(table))[0]\n",
      "/var/folders/96/g4gf6fdx3fvd5rqt0q24w3fh0000gq/T/ipykernel_51712/3593484128.py:32: FutureWarning: Passing literal html to 'read_html' is deprecated and will be removed in a future version. To read from a literal string, wrap it in a 'StringIO' object.\n",
      "  df = pd.read_html(str(table))[0]\n"
     ]
    },
    {
     "name": "stdout",
     "output_type": "stream",
     "text": [
      "Processing: Real GDP growth rate\n",
      "Processing: Real GDP per capita\n"
     ]
    },
    {
     "name": "stderr",
     "output_type": "stream",
     "text": [
      "/var/folders/96/g4gf6fdx3fvd5rqt0q24w3fh0000gq/T/ipykernel_51712/3593484128.py:32: FutureWarning: Passing literal html to 'read_html' is deprecated and will be removed in a future version. To read from a literal string, wrap it in a 'StringIO' object.\n",
      "  df = pd.read_html(str(table))[0]\n",
      "/var/folders/96/g4gf6fdx3fvd5rqt0q24w3fh0000gq/T/ipykernel_51712/3593484128.py:32: FutureWarning: Passing literal html to 'read_html' is deprecated and will be removed in a future version. To read from a literal string, wrap it in a 'StringIO' object.\n",
      "  df = pd.read_html(str(table))[0]\n"
     ]
    },
    {
     "name": "stdout",
     "output_type": "stream",
     "text": [
      "Processing: Inflation rate (consumer prices)\n",
      "Processing: GDP - composition, by sector of origin\n"
     ]
    },
    {
     "name": "stderr",
     "output_type": "stream",
     "text": [
      "/var/folders/96/g4gf6fdx3fvd5rqt0q24w3fh0000gq/T/ipykernel_51712/3593484128.py:32: FutureWarning: Passing literal html to 'read_html' is deprecated and will be removed in a future version. To read from a literal string, wrap it in a 'StringIO' object.\n",
      "  df = pd.read_html(str(table))[0]\n",
      "/var/folders/96/g4gf6fdx3fvd5rqt0q24w3fh0000gq/T/ipykernel_51712/3593484128.py:32: FutureWarning: Passing literal html to 'read_html' is deprecated and will be removed in a future version. To read from a literal string, wrap it in a 'StringIO' object.\n",
      "  df = pd.read_html(str(table))[0]\n"
     ]
    },
    {
     "name": "stdout",
     "output_type": "stream",
     "text": [
      "Processing: Industrial production growth rate\n",
      "Processing: Labor force\n"
     ]
    },
    {
     "name": "stderr",
     "output_type": "stream",
     "text": [
      "/var/folders/96/g4gf6fdx3fvd5rqt0q24w3fh0000gq/T/ipykernel_51712/3593484128.py:32: FutureWarning: Passing literal html to 'read_html' is deprecated and will be removed in a future version. To read from a literal string, wrap it in a 'StringIO' object.\n",
      "  df = pd.read_html(str(table))[0]\n",
      "/var/folders/96/g4gf6fdx3fvd5rqt0q24w3fh0000gq/T/ipykernel_51712/3593484128.py:32: FutureWarning: Passing literal html to 'read_html' is deprecated and will be removed in a future version. To read from a literal string, wrap it in a 'StringIO' object.\n",
      "  df = pd.read_html(str(table))[0]\n"
     ]
    },
    {
     "name": "stdout",
     "output_type": "stream",
     "text": [
      "Processing: Unemployment rate\n",
      "Processing: Youth unemployment rate (ages 15-24)\n"
     ]
    },
    {
     "name": "stderr",
     "output_type": "stream",
     "text": [
      "/var/folders/96/g4gf6fdx3fvd5rqt0q24w3fh0000gq/T/ipykernel_51712/3593484128.py:32: FutureWarning: Passing literal html to 'read_html' is deprecated and will be removed in a future version. To read from a literal string, wrap it in a 'StringIO' object.\n",
      "  df = pd.read_html(str(table))[0]\n",
      "/var/folders/96/g4gf6fdx3fvd5rqt0q24w3fh0000gq/T/ipykernel_51712/3593484128.py:32: FutureWarning: Passing literal html to 'read_html' is deprecated and will be removed in a future version. To read from a literal string, wrap it in a 'StringIO' object.\n",
      "  df = pd.read_html(str(table))[0]\n"
     ]
    },
    {
     "name": "stdout",
     "output_type": "stream",
     "text": [
      "Processing: Gini Index coefficient - distribution of family income\n",
      "Processing: Public debt\n"
     ]
    },
    {
     "name": "stderr",
     "output_type": "stream",
     "text": [
      "/var/folders/96/g4gf6fdx3fvd5rqt0q24w3fh0000gq/T/ipykernel_51712/3593484128.py:32: FutureWarning: Passing literal html to 'read_html' is deprecated and will be removed in a future version. To read from a literal string, wrap it in a 'StringIO' object.\n",
      "  df = pd.read_html(str(table))[0]\n",
      "/var/folders/96/g4gf6fdx3fvd5rqt0q24w3fh0000gq/T/ipykernel_51712/3593484128.py:32: FutureWarning: Passing literal html to 'read_html' is deprecated and will be removed in a future version. To read from a literal string, wrap it in a 'StringIO' object.\n",
      "  df = pd.read_html(str(table))[0]\n"
     ]
    },
    {
     "name": "stdout",
     "output_type": "stream",
     "text": [
      "Processing: Taxes and other revenues\n",
      "Processing: Current account balance\n"
     ]
    },
    {
     "name": "stderr",
     "output_type": "stream",
     "text": [
      "/var/folders/96/g4gf6fdx3fvd5rqt0q24w3fh0000gq/T/ipykernel_51712/3593484128.py:32: FutureWarning: Passing literal html to 'read_html' is deprecated and will be removed in a future version. To read from a literal string, wrap it in a 'StringIO' object.\n",
      "  df = pd.read_html(str(table))[0]\n",
      "/var/folders/96/g4gf6fdx3fvd5rqt0q24w3fh0000gq/T/ipykernel_51712/3593484128.py:32: FutureWarning: Passing literal html to 'read_html' is deprecated and will be removed in a future version. To read from a literal string, wrap it in a 'StringIO' object.\n",
      "  df = pd.read_html(str(table))[0]\n"
     ]
    },
    {
     "name": "stdout",
     "output_type": "stream",
     "text": [
      "Processing: Exports\n",
      "Processing: Imports\n"
     ]
    },
    {
     "name": "stderr",
     "output_type": "stream",
     "text": [
      "/var/folders/96/g4gf6fdx3fvd5rqt0q24w3fh0000gq/T/ipykernel_51712/3593484128.py:32: FutureWarning: Passing literal html to 'read_html' is deprecated and will be removed in a future version. To read from a literal string, wrap it in a 'StringIO' object.\n",
      "  df = pd.read_html(str(table))[0]\n",
      "/var/folders/96/g4gf6fdx3fvd5rqt0q24w3fh0000gq/T/ipykernel_51712/3593484128.py:32: FutureWarning: Passing literal html to 'read_html' is deprecated and will be removed in a future version. To read from a literal string, wrap it in a 'StringIO' object.\n",
      "  df = pd.read_html(str(table))[0]\n"
     ]
    },
    {
     "name": "stdout",
     "output_type": "stream",
     "text": [
      "Processing: Reserves of foreign exchange and gold\n",
      "Processing: Debt - external\n"
     ]
    },
    {
     "name": "stderr",
     "output_type": "stream",
     "text": [
      "/var/folders/96/g4gf6fdx3fvd5rqt0q24w3fh0000gq/T/ipykernel_51712/3593484128.py:32: FutureWarning: Passing literal html to 'read_html' is deprecated and will be removed in a future version. To read from a literal string, wrap it in a 'StringIO' object.\n",
      "  df = pd.read_html(str(table))[0]\n",
      "/var/folders/96/g4gf6fdx3fvd5rqt0q24w3fh0000gq/T/ipykernel_51712/3593484128.py:32: FutureWarning: Passing literal html to 'read_html' is deprecated and will be removed in a future version. To read from a literal string, wrap it in a 'StringIO' object.\n",
      "  df = pd.read_html(str(table))[0]\n"
     ]
    },
    {
     "name": "stdout",
     "output_type": "stream",
     "text": [
      "Processing: Electricity\n",
      "Processing: Carbon dioxide emissions\n"
     ]
    },
    {
     "name": "stderr",
     "output_type": "stream",
     "text": [
      "/var/folders/96/g4gf6fdx3fvd5rqt0q24w3fh0000gq/T/ipykernel_51712/3593484128.py:32: FutureWarning: Passing literal html to 'read_html' is deprecated and will be removed in a future version. To read from a literal string, wrap it in a 'StringIO' object.\n",
      "  df = pd.read_html(str(table))[0]\n",
      "/var/folders/96/g4gf6fdx3fvd5rqt0q24w3fh0000gq/T/ipykernel_51712/3593484128.py:32: FutureWarning: Passing literal html to 'read_html' is deprecated and will be removed in a future version. To read from a literal string, wrap it in a 'StringIO' object.\n",
      "  df = pd.read_html(str(table))[0]\n"
     ]
    },
    {
     "name": "stdout",
     "output_type": "stream",
     "text": [
      "Processing: Energy consumption per capita\n",
      "Processing: Telephones - fixed lines\n"
     ]
    },
    {
     "name": "stderr",
     "output_type": "stream",
     "text": [
      "/var/folders/96/g4gf6fdx3fvd5rqt0q24w3fh0000gq/T/ipykernel_51712/3593484128.py:32: FutureWarning: Passing literal html to 'read_html' is deprecated and will be removed in a future version. To read from a literal string, wrap it in a 'StringIO' object.\n",
      "  df = pd.read_html(str(table))[0]\n",
      "/var/folders/96/g4gf6fdx3fvd5rqt0q24w3fh0000gq/T/ipykernel_51712/3593484128.py:32: FutureWarning: Passing literal html to 'read_html' is deprecated and will be removed in a future version. To read from a literal string, wrap it in a 'StringIO' object.\n",
      "  df = pd.read_html(str(table))[0]\n"
     ]
    },
    {
     "name": "stdout",
     "output_type": "stream",
     "text": [
      "Processing: Telephones - mobile cellular\n",
      "Processing: Broadband - fixed subscriptions\n"
     ]
    },
    {
     "name": "stderr",
     "output_type": "stream",
     "text": [
      "/var/folders/96/g4gf6fdx3fvd5rqt0q24w3fh0000gq/T/ipykernel_51712/3593484128.py:32: FutureWarning: Passing literal html to 'read_html' is deprecated and will be removed in a future version. To read from a literal string, wrap it in a 'StringIO' object.\n",
      "  df = pd.read_html(str(table))[0]\n",
      "/var/folders/96/g4gf6fdx3fvd5rqt0q24w3fh0000gq/T/ipykernel_51712/3593484128.py:32: FutureWarning: Passing literal html to 'read_html' is deprecated and will be removed in a future version. To read from a literal string, wrap it in a 'StringIO' object.\n",
      "  df = pd.read_html(str(table))[0]\n"
     ]
    },
    {
     "name": "stdout",
     "output_type": "stream",
     "text": [
      "Processing: Airports\n",
      "Processing: Railways\n"
     ]
    },
    {
     "name": "stderr",
     "output_type": "stream",
     "text": [
      "/var/folders/96/g4gf6fdx3fvd5rqt0q24w3fh0000gq/T/ipykernel_51712/3593484128.py:32: FutureWarning: Passing literal html to 'read_html' is deprecated and will be removed in a future version. To read from a literal string, wrap it in a 'StringIO' object.\n",
      "  df = pd.read_html(str(table))[0]\n"
     ]
    },
    {
     "name": "stdout",
     "output_type": "stream",
     "text": [
      "Processing: Roadways\n"
     ]
    },
    {
     "name": "stderr",
     "output_type": "stream",
     "text": [
      "/var/folders/96/g4gf6fdx3fvd5rqt0q24w3fh0000gq/T/ipykernel_51712/3593484128.py:32: FutureWarning: Passing literal html to 'read_html' is deprecated and will be removed in a future version. To read from a literal string, wrap it in a 'StringIO' object.\n",
      "  df = pd.read_html(str(table))[0]\n"
     ]
    },
    {
     "name": "stdout",
     "output_type": "stream",
     "text": [
      "Processing: Waterways\n"
     ]
    },
    {
     "name": "stderr",
     "output_type": "stream",
     "text": [
      "/var/folders/96/g4gf6fdx3fvd5rqt0q24w3fh0000gq/T/ipykernel_51712/3593484128.py:32: FutureWarning: Passing literal html to 'read_html' is deprecated and will be removed in a future version. To read from a literal string, wrap it in a 'StringIO' object.\n",
      "  df = pd.read_html(str(table))[0]\n"
     ]
    },
    {
     "name": "stdout",
     "output_type": "stream",
     "text": [
      "Processing: Merchant marine\n"
     ]
    },
    {
     "name": "stderr",
     "output_type": "stream",
     "text": [
      "/var/folders/96/g4gf6fdx3fvd5rqt0q24w3fh0000gq/T/ipykernel_51712/3593484128.py:32: FutureWarning: Passing literal html to 'read_html' is deprecated and will be removed in a future version. To read from a literal string, wrap it in a 'StringIO' object.\n",
      "  df = pd.read_html(str(table))[0]\n",
      "/var/folders/96/g4gf6fdx3fvd5rqt0q24w3fh0000gq/T/ipykernel_51712/3593484128.py:32: FutureWarning: Passing literal html to 'read_html' is deprecated and will be removed in a future version. To read from a literal string, wrap it in a 'StringIO' object.\n",
      "  df = pd.read_html(str(table))[0]\n"
     ]
    },
    {
     "name": "stdout",
     "output_type": "stream",
     "text": [
      "Processing: Military expenditures\n",
      "All tables successfully saved to CIA_World_Factbook_Tables.xlsx\n"
     ]
    }
   ],
   "source": [
    "import requests\n",
    "from bs4 import BeautifulSoup\n",
    "import pandas as pd\n",
    "from urllib.parse import urljoin\n",
    "\n",
    "# Main URL\n",
    "base_url = \"https://www.cia.gov/the-world-factbook/references/guide-to-country-comparisons/\"\n",
    "\n",
    "# Fetch the main page content\n",
    "response = requests.get(base_url)\n",
    "soup = BeautifulSoup(response.content, \"html.parser\")\n",
    "\n",
    "# Find all the links under the page content\n",
    "links = soup.select('a[href*=\"/field/\"]')\n",
    "\n",
    "# Excel writer object\n",
    "excel_writer = pd.ExcelWriter('~/Downloads/CIA_World_Factbook_Tables.xlsx', engine='openpyxl')\n",
    "\n",
    "# Iterate through each link, extract table, and write to Excel\n",
    "for link in links:\n",
    "    page_url = urljoin(base_url, link['href'])\n",
    "    page_name = link.get_text(strip=True).replace('/', '-')\n",
    "\n",
    "    print(f\"Processing: {page_name}\")\n",
    "\n",
    "    page_resp = requests.get(page_url)\n",
    "    page_soup = BeautifulSoup(page_resp.content, \"html.parser\")\n",
    "\n",
    "    # Locate tables on page\n",
    "    table = page_soup.find(\"table\")\n",
    "    if table:\n",
    "        df = pd.read_html(str(table))[0]\n",
    "        df.to_excel(excel_writer, sheet_name=page_name[:31], index=False)\n",
    "    else:\n",
    "        print(f\"No table found on {page_url}\")\n",
    "\n",
    "# Save and close Excel writer\n",
    "excel_writer.close()\n",
    "\n",
    "print(\"All tables successfully saved to CIA_World_Factbook_Tables.xlsx\")"
   ]
  }
 ],
 "metadata": {
  "kernelspec": {
   "display_name": "base",
   "language": "python",
   "name": "python3"
  },
  "language_info": {
   "codemirror_mode": {
    "name": "ipython",
    "version": 3
   },
   "file_extension": ".py",
   "mimetype": "text/x-python",
   "name": "python",
   "nbconvert_exporter": "python",
   "pygments_lexer": "ipython3",
   "version": "3.11.7"
  }
 },
 "nbformat": 4,
 "nbformat_minor": 2
}
