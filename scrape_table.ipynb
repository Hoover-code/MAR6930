{
 "cells": [
  {
   "cell_type": "code",
   "execution_count": 1,
   "id": "15fa7175",
   "metadata": {},
   "outputs": [],
   "source": [
    "# load Packages\n",
    "import pandas as pd"
   ]
  },
  {
   "cell_type": "code",
   "execution_count": 2,
   "id": "0292b073",
   "metadata": {},
   "outputs": [],
   "source": [
    "# extract the table from the web\n",
    "df = pd.read_html(\"https://www.cia.gov/the-world-factbook/field/population/country-comparison\")"
   ]
  },
  {
   "cell_type": "code",
   "execution_count": 3,
   "id": "19f8a0ca",
   "metadata": {},
   "outputs": [
    {
     "data": {
      "text/html": [
       "<div>\n",
       "<style scoped>\n",
       "    .dataframe tbody tr th:only-of-type {\n",
       "        vertical-align: middle;\n",
       "    }\n",
       "\n",
       "    .dataframe tbody tr th {\n",
       "        vertical-align: top;\n",
       "    }\n",
       "\n",
       "    .dataframe thead th {\n",
       "        text-align: right;\n",
       "    }\n",
       "</style>\n",
       "<table border=\"1\" class=\"dataframe\">\n",
       "  <thead>\n",
       "    <tr style=\"text-align: right;\">\n",
       "      <th></th>\n",
       "      <th>Rank</th>\n",
       "      <th>Country</th>\n",
       "      <th>Unnamed: 2</th>\n",
       "      <th>Date of Information</th>\n",
       "    </tr>\n",
       "  </thead>\n",
       "  <tbody>\n",
       "    <tr>\n",
       "      <th>0</th>\n",
       "      <td>1</td>\n",
       "      <td>China</td>\n",
       "      <td>1413142846</td>\n",
       "      <td>2023 est.</td>\n",
       "    </tr>\n",
       "    <tr>\n",
       "      <th>1</th>\n",
       "      <td>2</td>\n",
       "      <td>India</td>\n",
       "      <td>1399179585</td>\n",
       "      <td>2023 est.</td>\n",
       "    </tr>\n",
       "    <tr>\n",
       "      <th>2</th>\n",
       "      <td>3</td>\n",
       "      <td>United States</td>\n",
       "      <td>339665118</td>\n",
       "      <td>2023 est.</td>\n",
       "    </tr>\n",
       "    <tr>\n",
       "      <th>3</th>\n",
       "      <td>4</td>\n",
       "      <td>Indonesia</td>\n",
       "      <td>279476346</td>\n",
       "      <td>2023 est.</td>\n",
       "    </tr>\n",
       "    <tr>\n",
       "      <th>4</th>\n",
       "      <td>5</td>\n",
       "      <td>Pakistan</td>\n",
       "      <td>247653551</td>\n",
       "      <td>2023 est.</td>\n",
       "    </tr>\n",
       "    <tr>\n",
       "      <th>...</th>\n",
       "      <td>...</td>\n",
       "      <td>...</td>\n",
       "      <td>...</td>\n",
       "      <td>...</td>\n",
       "    </tr>\n",
       "    <tr>\n",
       "      <th>232</th>\n",
       "      <td>233</td>\n",
       "      <td>Tokelau</td>\n",
       "      <td>1647</td>\n",
       "      <td>2019 est.</td>\n",
       "    </tr>\n",
       "    <tr>\n",
       "      <th>233</th>\n",
       "      <td>234</td>\n",
       "      <td>Paracel Islands</td>\n",
       "      <td>1440</td>\n",
       "      <td>July 2014 est.</td>\n",
       "    </tr>\n",
       "    <tr>\n",
       "      <th>234</th>\n",
       "      <td>235</td>\n",
       "      <td>Holy See (Vatican City)</td>\n",
       "      <td>1000</td>\n",
       "      <td>2022 est.</td>\n",
       "    </tr>\n",
       "    <tr>\n",
       "      <th>235</th>\n",
       "      <td>236</td>\n",
       "      <td>Cocos (Keeling) Islands</td>\n",
       "      <td>596</td>\n",
       "      <td>July 2014 est.</td>\n",
       "    </tr>\n",
       "    <tr>\n",
       "      <th>236</th>\n",
       "      <td>237</td>\n",
       "      <td>Pitcairn Islands</td>\n",
       "      <td>50</td>\n",
       "      <td>2021 est.</td>\n",
       "    </tr>\n",
       "  </tbody>\n",
       "</table>\n",
       "<p>237 rows × 4 columns</p>\n",
       "</div>"
      ],
      "text/plain": [
       "     Rank                  Country  Unnamed: 2 Date of Information\n",
       "0       1                    China  1413142846           2023 est.\n",
       "1       2                    India  1399179585           2023 est.\n",
       "2       3            United States   339665118           2023 est.\n",
       "3       4                Indonesia   279476346           2023 est.\n",
       "4       5                 Pakistan   247653551           2023 est.\n",
       "..    ...                      ...         ...                 ...\n",
       "232   233                  Tokelau        1647           2019 est.\n",
       "233   234          Paracel Islands        1440      July 2014 est.\n",
       "234   235  Holy See (Vatican City)        1000           2022 est.\n",
       "235   236  Cocos (Keeling) Islands         596      July 2014 est.\n",
       "236   237         Pitcairn Islands          50           2021 est.\n",
       "\n",
       "[237 rows x 4 columns]"
      ]
     },
     "execution_count": 3,
     "metadata": {},
     "output_type": "execute_result"
    }
   ],
   "source": [
    "# you need to identify the location of the table in the html page... in this case, it is table 0\n",
    "# the next line of code illustrates the data frame (like a spreadsheet)\n",
    "df[0]"
   ]
  },
  {
   "cell_type": "code",
   "execution_count": 4,
   "id": "284fad76",
   "metadata": {},
   "outputs": [],
   "source": [
    "# convert the df object into a dataframe\n",
    "df = pd.DataFrame(df[0])"
   ]
  },
  {
   "cell_type": "code",
   "execution_count": 5,
   "id": "ae427439",
   "metadata": {},
   "outputs": [],
   "source": [
    "# save the dataframe as an excel file\n",
    "df.to_excel('Population_table_python.xlsx')"
   ]
  },
  {
   "cell_type": "code",
   "execution_count": null,
   "id": "7ba65e15",
   "metadata": {},
   "outputs": [],
   "source": []
  }
 ],
 "metadata": {
  "kernelspec": {
   "display_name": "Python 3 (ipykernel)",
   "language": "python",
   "name": "python3"
  },
  "language_info": {
   "codemirror_mode": {
    "name": "ipython",
    "version": 3
   },
   "file_extension": ".py",
   "mimetype": "text/x-python",
   "name": "python",
   "nbconvert_exporter": "python",
   "pygments_lexer": "ipython3",
   "version": "3.9.7"
  }
 },
 "nbformat": 4,
 "nbformat_minor": 5
}
